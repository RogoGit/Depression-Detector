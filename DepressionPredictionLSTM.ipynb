{
 "nbformat": 4,
 "nbformat_minor": 0,
 "metadata": {
  "colab": {
   "provenance": [
    {
     "file_id": "1ELhAKvBr-5tjBC6UlwByop89CpwO_wgN",
     "timestamp": 1668797846148
    },
    {
     "file_id": "1lNhbHboRYVb-caV7Ktj9cWJnHW7DPD9-",
     "timestamp": 1663946395844
    }
   ]
  },
  "kernelspec": {
   "name": "python3",
   "display_name": "Python 3"
  },
  "accelerator": "GPU",
  "gpuClass": "standard"
 },
 "cells": [
  {
   "metadata": {
    "id": "Z4WlMyJVRkzQ",
    "executionInfo": {
     "status": "ok",
     "timestamp": 1668874597318,
     "user_tz": -180,
     "elapsed": 8129,
     "user": {
      "displayName": "Никита Рогаленко",
      "userId": "07335219348058713837"
     }
    },
    "colab": {
     "base_uri": "https://localhost:8080/"
    },
    "outputId": "5e2a7c89-4874-4f21-decf-3d20c417c355"
   },
   "cell_type": "code",
   "source": [
    "!pip -qq install torchtext==0.3.1\n",
    "!pip -qq install autocorrect"
   ],
   "execution_count": 8,
   "outputs": [
    {
     "output_type": "stream",
     "name": "stdout",
     "text": [
      "\u001B[?25l\r\u001B[K     |▌                               | 10 kB 15.4 MB/s eta 0:00:01\r\u001B[K     |█                               | 20 kB 5.1 MB/s eta 0:00:01\r\u001B[K     |█▋                              | 30 kB 7.2 MB/s eta 0:00:01\r\u001B[K     |██                              | 40 kB 4.1 MB/s eta 0:00:01\r\u001B[K     |██▋                             | 51 kB 4.4 MB/s eta 0:00:01\r\u001B[K     |███▏                            | 61 kB 5.2 MB/s eta 0:00:01\r\u001B[K     |███▊                            | 71 kB 5.1 MB/s eta 0:00:01\r\u001B[K     |████▏                           | 81 kB 5.0 MB/s eta 0:00:01\r\u001B[K     |████▊                           | 92 kB 5.6 MB/s eta 0:00:01\r\u001B[K     |█████▎                          | 102 kB 5.0 MB/s eta 0:00:01\r\u001B[K     |█████▉                          | 112 kB 5.0 MB/s eta 0:00:01\r\u001B[K     |██████▎                         | 122 kB 5.0 MB/s eta 0:00:01\r\u001B[K     |██████▉                         | 133 kB 5.0 MB/s eta 0:00:01\r\u001B[K     |███████▍                        | 143 kB 5.0 MB/s eta 0:00:01\r\u001B[K     |████████                        | 153 kB 5.0 MB/s eta 0:00:01\r\u001B[K     |████████▍                       | 163 kB 5.0 MB/s eta 0:00:01\r\u001B[K     |█████████                       | 174 kB 5.0 MB/s eta 0:00:01\r\u001B[K     |█████████▌                      | 184 kB 5.0 MB/s eta 0:00:01\r\u001B[K     |██████████                      | 194 kB 5.0 MB/s eta 0:00:01\r\u001B[K     |██████████▌                     | 204 kB 5.0 MB/s eta 0:00:01\r\u001B[K     |███████████                     | 215 kB 5.0 MB/s eta 0:00:01\r\u001B[K     |███████████▋                    | 225 kB 5.0 MB/s eta 0:00:01\r\u001B[K     |████████████                    | 235 kB 5.0 MB/s eta 0:00:01\r\u001B[K     |████████████▋                   | 245 kB 5.0 MB/s eta 0:00:01\r\u001B[K     |█████████████▏                  | 256 kB 5.0 MB/s eta 0:00:01\r\u001B[K     |█████████████▊                  | 266 kB 5.0 MB/s eta 0:00:01\r\u001B[K     |██████████████▏                 | 276 kB 5.0 MB/s eta 0:00:01\r\u001B[K     |██████████████▊                 | 286 kB 5.0 MB/s eta 0:00:01\r\u001B[K     |███████████████▎                | 296 kB 5.0 MB/s eta 0:00:01\r\u001B[K     |███████████████▉                | 307 kB 5.0 MB/s eta 0:00:01\r\u001B[K     |████████████████▎               | 317 kB 5.0 MB/s eta 0:00:01\r\u001B[K     |████████████████▉               | 327 kB 5.0 MB/s eta 0:00:01\r\u001B[K     |█████████████████▍              | 337 kB 5.0 MB/s eta 0:00:01\r\u001B[K     |██████████████████              | 348 kB 5.0 MB/s eta 0:00:01\r\u001B[K     |██████████████████▍             | 358 kB 5.0 MB/s eta 0:00:01\r\u001B[K     |███████████████████             | 368 kB 5.0 MB/s eta 0:00:01\r\u001B[K     |███████████████████▌            | 378 kB 5.0 MB/s eta 0:00:01\r\u001B[K     |████████████████████            | 389 kB 5.0 MB/s eta 0:00:01\r\u001B[K     |████████████████████▌           | 399 kB 5.0 MB/s eta 0:00:01\r\u001B[K     |█████████████████████           | 409 kB 5.0 MB/s eta 0:00:01\r\u001B[K     |█████████████████████▋          | 419 kB 5.0 MB/s eta 0:00:01\r\u001B[K     |██████████████████████          | 430 kB 5.0 MB/s eta 0:00:01\r\u001B[K     |██████████████████████▋         | 440 kB 5.0 MB/s eta 0:00:01\r\u001B[K     |███████████████████████▏        | 450 kB 5.0 MB/s eta 0:00:01\r\u001B[K     |███████████████████████▊        | 460 kB 5.0 MB/s eta 0:00:01\r\u001B[K     |████████████████████████▏       | 471 kB 5.0 MB/s eta 0:00:01\r\u001B[K     |████████████████████████▊       | 481 kB 5.0 MB/s eta 0:00:01\r\u001B[K     |█████████████████████████▎      | 491 kB 5.0 MB/s eta 0:00:01\r\u001B[K     |█████████████████████████▉      | 501 kB 5.0 MB/s eta 0:00:01\r\u001B[K     |██████████████████████████▎     | 512 kB 5.0 MB/s eta 0:00:01\r\u001B[K     |██████████████████████████▉     | 522 kB 5.0 MB/s eta 0:00:01\r\u001B[K     |███████████████████████████▍    | 532 kB 5.0 MB/s eta 0:00:01\r\u001B[K     |███████████████████████████▉    | 542 kB 5.0 MB/s eta 0:00:01\r\u001B[K     |████████████████████████████▍   | 552 kB 5.0 MB/s eta 0:00:01\r\u001B[K     |█████████████████████████████   | 563 kB 5.0 MB/s eta 0:00:01\r\u001B[K     |█████████████████████████████▌  | 573 kB 5.0 MB/s eta 0:00:01\r\u001B[K     |██████████████████████████████  | 583 kB 5.0 MB/s eta 0:00:01\r\u001B[K     |██████████████████████████████▌ | 593 kB 5.0 MB/s eta 0:00:01\r\u001B[K     |███████████████████████████████ | 604 kB 5.0 MB/s eta 0:00:01\r\u001B[K     |███████████████████████████████▋| 614 kB 5.0 MB/s eta 0:00:01\r\u001B[K     |████████████████████████████████| 622 kB 5.0 MB/s \n",
      "\u001B[?25h  Building wheel for autocorrect (setup.py) ... \u001B[?25l\u001B[?25hdone\n"
     ]
    }
   ]
  },
  {
   "metadata": {
    "id": "UvJKy3mtVOpw",
    "executionInfo": {
     "status": "ok",
     "timestamp": 1668874569328,
     "user_tz": -180,
     "elapsed": 3918,
     "user": {
      "displayName": "Никита Рогаленко",
      "userId": "07335219348058713837"
     }
    }
   },
   "cell_type": "code",
   "source": [
    "import numpy as np\n",
    "\n",
    "import torch\n",
    "import torch.nn as nn\n",
    "import torch.nn.functional as F\n",
    "import torch.optim as optim\n",
    "\n",
    "\n",
    "if torch.cuda.is_available():\n",
    "    from torch.cuda import FloatTensor, LongTensor\n",
    "    DEVICE = torch.device('cuda')\n",
    "else:\n",
    "    from torch import FloatTensor, LongTensor\n",
    "    DEVICE = torch.device('cpu')\n",
    "\n",
    "np.random.seed(313)"
   ],
   "execution_count": 4,
   "outputs": []
  },
  {
   "cell_type": "code",
   "source": [
    "import math\n",
    "from tqdm import tqdm\n",
    "tqdm.get_lock().locks = []"
   ],
   "metadata": {
    "id": "tcbZ-kvslfzf",
    "executionInfo": {
     "status": "ok",
     "timestamp": 1668874571758,
     "user_tz": -180,
     "elapsed": 299,
     "user": {
      "displayName": "Никита Рогаленко",
      "userId": "07335219348058713837"
     }
    }
   },
   "execution_count": 5,
   "outputs": []
  },
  {
   "cell_type": "code",
   "source": [
    "torch.torch_version.internal_version"
   ],
   "metadata": {
    "colab": {
     "base_uri": "https://localhost:8080/",
     "height": 35
    },
    "id": "kAmi9w6Jq1yW",
    "executionInfo": {
     "status": "ok",
     "timestamp": 1668874576159,
     "user_tz": -180,
     "elapsed": 249,
     "user": {
      "displayName": "Никита Рогаленко",
      "userId": "07335219348058713837"
     }
    },
    "outputId": "38c7908a-538e-49d8-bcc9-01b74870bd27"
   },
   "execution_count": 6,
   "outputs": [
    {
     "output_type": "execute_result",
     "data": {
      "text/plain": [
       "'1.12.1+cu113'"
      ],
      "application/vnd.google.colaboratory.intrinsic+json": {
       "type": "string"
      }
     },
     "metadata": {},
     "execution_count": 6
    }
   ]
  },
  {
   "cell_type": "code",
   "source": [
    "import pandas as pd\n",
    "from pymongo import MongoClient\n",
    "from datetime import datetime\n",
    "import urllib.parse"
   ],
   "metadata": {
    "id": "g_Tq1V_xMhCz",
    "executionInfo": {
     "status": "ok",
     "timestamp": 1668874577931,
     "user_tz": -180,
     "elapsed": 621,
     "user": {
      "displayName": "Никита Рогаленко",
      "userId": "07335219348058713837"
     }
    }
   },
   "execution_count": 7,
   "outputs": []
  },
  {
   "metadata": {
    "id": "nIJt4hPLPYtO"
   },
   "cell_type": "markdown",
   "source": [
    "## Загрузка данных"
   ]
  },
  {
   "cell_type": "code",
   "source": [
    "CONNECTION_STRING = \"\""
   ],
   "metadata": {
    "id": "0eFSz8IQL_O1",
    "executionInfo": {
     "status": "ok",
     "timestamp": 1668874810377,
     "user_tz": -180,
     "elapsed": 329,
     "user": {
      "displayName": "Никита Рогаленко",
      "userId": "07335219348058713837"
     }
    }
   },
   "execution_count": 12,
   "outputs": []
  },
  {
   "cell_type": "code",
   "source": [
    "import re\n",
    "\n",
    "\n",
    "def atoi(text):\n",
    "    return int(text) if text.isdigit() else text\n",
    "\n",
    "\n",
    "def natural_keys(text):\n",
    "    '''\n",
    "    alist.sort(key=natural_keys) sorts in human order\n",
    "    http://nedbatchelder.com/blog/200712/human_sorting.html\n",
    "    (See Toothy's implementation in the comments)\n",
    "    '''\n",
    "    return [ atoi(c) for c in re.split(r'(\\d+)', text) ]\n",
    "\n",
    "\n",
    "def get_latest_preprocessed_depression_df(do_remove_id=True, do_remove_age=True):\n",
    "    client = MongoClient(CONNECTION_STRING)\n",
    "    print(client.list_database_names())\n",
    "    db = client['depression']\n",
    "    print(db.list_collection_names())\n",
    "    preprocessed_collections = [coll for coll in db.list_collection_names() if 'preprocessed_depression_data' in coll]\n",
    "    preprocessed_collections.sort(key=natural_keys)\n",
    "    latest_collection_name = preprocessed_collections[-1]\n",
    "    latest_preprocessed_data_collection = db[latest_collection_name]\n",
    "    preprocessed_data_cursor = latest_preprocessed_data_collection.find()\n",
    "    dataframe = pd.DataFrame(list(preprocessed_data_cursor))\n",
    "    if do_remove_id:\n",
    "        del dataframe['_id']\n",
    "    if do_remove_age:\n",
    "        del dataframe['age']\n",
    "    print(dataframe)\n",
    "    return dataframe\n",
    "\n",
    "depression_df = get_latest_preprocessed_depression_df()"
   ],
   "metadata": {
    "colab": {
     "base_uri": "https://localhost:8080/"
    },
    "id": "wjaoEArVK-dI",
    "executionInfo": {
     "status": "ok",
     "timestamp": 1668874905718,
     "user_tz": -180,
     "elapsed": 12591,
     "user": {
      "displayName": "Никита Рогаленко",
      "userId": "07335219348058713837"
     }
    },
    "outputId": "2e8278ce-d5e3-4567-e21d-7682a0ed24d8"
   },
   "execution_count": 20,
   "outputs": [
    {
     "output_type": "stream",
     "name": "stdout",
     "text": [
      "['depression']\n",
      "['raw_depression_data', 'preprocessed_depression_data_19_11_2022_13_24_38', 'depression_data_accessors']\n",
      "                                                    text  label\n",
      "0      добрый романтик который стремиться помогать по...      1\n",
      "1      проблема девушка каждый ссора мочь перенести о...      1\n",
      "2      весь жизнь это сплошной ад который горе постоя...      1\n",
      "3      хотеть уснуть просыпаться каждый день время сч...      1\n",
      "4      здраствовать каждый день просыпаться мысль жит...      1\n",
      "...                                                  ...    ...\n",
      "62553  минувший выходной спортблок калмга проходить з...      0\n",
      "62554  v сезон club129270552 международный детский не...      0\n",
      "62555  втб подводить итог первый корпоративный акселе...      0\n",
      "62556  втб запускать бесплатный пополнение карта банк...      0\n",
      "62557  сызрань вновь пройти ярмарка вакансия рабочий ...      0\n",
      "\n",
      "[62558 rows x 2 columns]\n"
     ]
    }
   ]
  },
  {
   "cell_type": "markdown",
   "source": [
    "##Разделение на train, val, test"
   ],
   "metadata": {
    "id": "u2KymLMKCYL9"
   }
  },
  {
   "cell_type": "code",
   "source": [
    "from sklearn.model_selection import train_test_split\n",
    "\n",
    "train_df, test_df = train_test_split(depression_df, test_size=0.20, random_state=313, stratify=depression_df['label'])\n",
    "train_df, val_df =  train_test_split(train_df, test_size=0.10, random_state=313, stratify=train_df['label'])\n",
    "\n",
    "print(train_df)\n",
    "print(val_df)\n",
    "print(test_df)"
   ],
   "metadata": {
    "colab": {
     "base_uri": "https://localhost:8080/"
    },
    "id": "YmZdLQnIgmQA",
    "executionInfo": {
     "status": "ok",
     "timestamp": 1668874920159,
     "user_tz": -180,
     "elapsed": 321,
     "user": {
      "displayName": "Никита Рогаленко",
      "userId": "07335219348058713837"
     }
    },
    "outputId": "11858cc5-ecd3-446e-dd74-2ef51d415f47"
   },
   "execution_count": 21,
   "outputs": [
    {
     "output_type": "stream",
     "name": "stdout",
     "text": [
      "                                                    text  label\n",
      "50956  полицейский подводить промежуточный итог акция...      0\n",
      "16176  привет артем военнослужащий 27 потерять жена с...      1\n",
      "23017  бросать институт мама узнавать переживать люби...      1\n",
      "33949  центр столица определяться застройщик участок ...      0\n",
      "22248  здравствовать 26 звать саша писать получать от...      1\n",
      "...                                                  ...    ...\n",
      "18392  здраствовать звать оксана 14лет 8 год жить опе...      1\n",
      "12909  подсказывать находить сила сломаться обстоятел...      1\n",
      "19531  привет казаться жизнь никто держать семья един...      1\n",
      "58635  работник управляющий компания сибирский альянс...      0\n",
      "11559  человек здравствовать 14 дет хотеть умирать по...      1\n",
      "\n",
      "[45041 rows x 2 columns]\n",
      "                                                    text  label\n",
      "54419  хотеть посоветовать проверенный лицензионный к...      0\n",
      "31791  дом культура сердце садиться название нерица п...      0\n",
      "39119  летний вегетарианский фестиваль фестиваль добр...      0\n",
      "4021   молодой человек бросать сначала предлагать ост...      1\n",
      "357    здравствовать проблема это ничто стравнение пр...      1\n",
      "...                                                  ...    ...\n",
      "57     здравствовать кирилл возраст 23 год следующий ...      1\n",
      "10859  отвечать звать ольга 32 хронический депрессия ...      1\n",
      "12076  здравствовать рано писать сайт подобный тема в...      1\n",
      "8223   здравствовать история многое похожий множество...      1\n",
      "1845   хотеть умирать 37 леть 3 ребенок 2 первый брак...      1\n",
      "\n",
      "[5005 rows x 2 columns]\n",
      "                                                    text  label\n",
      "46479  сегодня club109344729 волонт ры победа проводи...      0\n",
      "27915  человек который шутить менструальный болезнь ч...      1\n",
      "60853  историко краеведческий музей совместно собрани...      0\n",
      "163    здравствовать история природа награждать очень...      1\n",
      "48467  талдыкорганский дачный общество алмала проходи...      0\n",
      "...                                                  ...    ...\n",
      "38880  определяться точный дата проведение iv междуна...      0\n",
      "59560  проект надземный подземный метро готовый это з...      0\n",
      "62049  новость день число место заправка электромобил...      0\n",
      "21776  неразделенный любовь мочь нормально жить устав...      1\n",
      "14230  здравствовать хотеть поделиться свой история 1...      1\n",
      "\n",
      "[12512 rows x 2 columns]\n"
     ]
    }
   ]
  },
  {
   "cell_type": "code",
   "source": [
    "def df_to_list(df):\n",
    "  data_list = []\n",
    "  for idx, data_row in df.iterrows():\n",
    "    data_list.append(([word.strip() for word in data_row['text'].strip().split()], data_row['label']))\n",
    "  print(data_list[0])\n",
    "  return data_list\n"
   ],
   "metadata": {
    "id": "-fZzHGKMtdV0",
    "executionInfo": {
     "status": "ok",
     "timestamp": 1668874924606,
     "user_tz": -180,
     "elapsed": 249,
     "user": {
      "displayName": "Никита Рогаленко",
      "userId": "07335219348058713837"
     }
    }
   },
   "execution_count": 22,
   "outputs": []
  },
  {
   "cell_type": "code",
   "source": [
    "from torchtext.data import Field, LabelField, Example, Dataset, BucketIterator\n",
    "\n",
    "tokens_field = Field()\n",
    "label_field = LabelField()\n",
    "\n",
    "fields = [('tokens', tokens_field), ('label', label_field)]\n",
    "\n",
    "train_dataset = Dataset([Example.fromlist(example, fields) for example in df_to_list(train_df)], fields)\n",
    "val_dataset = Dataset([Example.fromlist(example, fields) for example in df_to_list(val_df)], fields)\n",
    "test_dataset = Dataset([Example.fromlist(example, fields) for example in df_to_list(test_df)], fields)\n",
    "\n",
    "tokens_field.build_vocab(train_dataset)\n",
    "label_field.build_vocab(train_dataset)\n",
    "\n",
    "print('Vocab size =', len(tokens_field.vocab))\n",
    "\n",
    "train_iter, val_iter, test_iter = BucketIterator.splits(\n",
    "    datasets=(train_dataset, val_dataset, test_dataset), batch_sizes=(32, 128, 128), \n",
    "    shuffle=True, device=DEVICE, sort=False\n",
    ")\n",
    "\n",
    "print (train_dataset)"
   ],
   "metadata": {
    "id": "pLY1S71p5Iuk",
    "colab": {
     "base_uri": "https://localhost:8080/"
    },
    "executionInfo": {
     "status": "ok",
     "timestamp": 1668874935143,
     "user_tz": -180,
     "elapsed": 8994,
     "user": {
      "displayName": "Никита Рогаленко",
      "userId": "07335219348058713837"
     }
    },
    "outputId": "32162463-e2b4-4773-e27f-8c39d7b4eb9f"
   },
   "execution_count": 23,
   "outputs": [
    {
     "output_type": "stream",
     "name": "stdout",
     "text": [
      "(['полицейский', 'подводить', 'промежуточный', 'итог', 'акция', 'выкуп', 'незаконный', 'оружие', 'население', 'тысяча', 'единица', 'огнестрельный', 'оружие', 'сдавать', 'полиция', 'казахстанец'], 0)\n",
      "(['хотеть', 'посоветовать', 'проверенный', 'лицензионный', 'казино', 'чемпион', 'новый', 'игрок', 'бонус', '200', '000', 'рубль', 'первый', '5', 'депозит', 'выплата', 'течение', 'час', 'любой', 'сумма', 'любой', 'платежный', 'система', 'первый', 'выплата', 'верификация', 'интересно', 'ссылка', 'чемпион', 'игровой', 'автомат', 'онлайн', 'официальный', 'сайт', 'champion', 'casino', 'играть', 'бесплатно', 'рег'], 0)\n",
      "(['сегодня', 'club109344729', 'волонт', 'ры', 'победа', 'проводить', 'субботник', 'ботанический', 'сад', '100', 'активист', 'движение', 'школьник', 'студент', 'надевать', 'перчатка', 'очищать', 'мусор', 'масштабный', 'территория', 'сад', 'волонтер', 'победа', 'организовывать', 'раздельный', 'сбор', 'мусор', 'пластик', 'стекло', 'отходы', 'рассортировывать', 'разный', 'пакет', 'отправлять', 'переработка', 'благодарить', 'каждый', 'присоединяться', 'акция', 'сделать', 'наш', 'город', 'чисто'], 0)\n",
      "Vocab size = 142680\n",
      "<torchtext.data.dataset.Dataset object at 0x7fd07397ee10>\n"
     ]
    }
   ]
  },
  {
   "cell_type": "code",
   "source": [
    "for ex in train_iter.dataset.examples:\n",
    "  print(str(ex.tokens) + \"   \" + str(ex.label))"
   ],
   "metadata": {
    "colab": {
     "base_uri": "https://localhost:8080/",
     "output_embedded_package_id": "1Ru8bgQ4q4_Igi9eOgp-fmj39e7ta652o"
    },
    "id": "7ycj_b60hnX0",
    "executionInfo": {
     "status": "ok",
     "timestamp": 1668860587606,
     "user_tz": -180,
     "elapsed": 25479,
     "user": {
      "displayName": "Никита Рогаленко",
      "userId": "07335219348058713837"
     }
    },
    "outputId": "41ad8146-7f4d-46e8-e9c3-2708489fe337"
   },
   "execution_count": 24,
   "outputs": [
    {
     "output_type": "display_data",
     "data": {
      "text/plain": "Output hidden; open in https://colab.research.google.com to view."
     },
     "metadata": {}
    }
   ]
  },
  {
   "metadata": {
    "id": "Rx8tY7_xQIpi"
   },
   "cell_type": "markdown",
   "source": [
    "## Классификатор депрессии"
   ]
  },
  {
   "metadata": {
    "id": "u4pZR9IRckK-",
    "executionInfo": {
     "status": "ok",
     "timestamp": 1668874821211,
     "user_tz": -180,
     "elapsed": 343,
     "user": {
      "displayName": "Никита Рогаленко",
      "userId": "07335219348058713837"
     }
    }
   },
   "cell_type": "code",
   "source": [
    "class DepressionClassifierModel(nn.Module):\n",
    "    def __init__(self, vocab_size, emb_dim=64, lstm_hidden_dim=128, num_layers=1, dropout_p=0.2):\n",
    "        super().__init__()\n",
    "\n",
    "        self.embeddings_layer = nn.Embedding(vocab_size, emb_dim)\n",
    "        self.dropout = nn.Dropout(dropout_p)\n",
    "        self.lstm_layer = nn.LSTM(input_size=emb_dim, hidden_size=lstm_hidden_dim, bidirectional=True, num_layers=num_layers, batch_first=True)\n",
    "        self.out_layer = nn.Linear(lstm_hidden_dim * 2, 2)\n",
    "\n",
    "\n",
    "    def forward(self, inputs):\n",
    "        projections = self.embeddings_layer(inputs)\n",
    "        _, (final_hidden_state, _) = self.lstm_layer(projections)\n",
    "        hidden = self.dropout(torch.cat([final_hidden_state[0], final_hidden_state[1]], dim=1))\n",
    "        output = self.out_layer(hidden)\n",
    "        return output"
   ],
   "execution_count": 13,
   "outputs": []
  },
  {
   "metadata": {
    "id": "MfKFMfeg_RLV",
    "executionInfo": {
     "status": "ok",
     "timestamp": 1668874823361,
     "user_tz": -180,
     "elapsed": 406,
     "user": {
      "displayName": "Никита Рогаленко",
      "userId": "07335219348058713837"
     }
    }
   },
   "cell_type": "code",
   "source": [
    "class ModelTrainer():\n",
    "    def __init__(self, model, criterion, optimizer):\n",
    "        self.model = model\n",
    "        self.criterion = criterion\n",
    "        self.optimizer = optimizer\n",
    "        \n",
    "    def on_epoch_begin(self, is_train, name, batches_count):\n",
    "        \"\"\"\n",
    "        Initializes metrics\n",
    "        \"\"\"\n",
    "        self.epoch_loss = 0\n",
    "        self.correct_count, self.total_count = 0, 0\n",
    "        self.is_train = is_train\n",
    "        self.name = name\n",
    "        self.batches_count = batches_count\n",
    "        \n",
    "        self.model.train(is_train)\n",
    "        \n",
    "    def on_epoch_end(self):\n",
    "        \"\"\"\n",
    "        Outputs final metrics\n",
    "        \"\"\"\n",
    "        return '{:>5s} Loss = {:.5f}, Accuracy = {:.2%}'.format(\n",
    "            self.name, self.epoch_loss / self.batches_count, self.correct_count / self.total_count\n",
    "        )\n",
    "        \n",
    "    def on_batch(self, batch):\n",
    "        \"\"\"\n",
    "        Performs forward and (if is_train) backward pass with optimization, updates metrics\n",
    "        \"\"\"\n",
    "        logits = self.model(batch.tokens.transpose(0, 1))\n",
    "\n",
    "        loss = self.criterion(logits, batch.label)\n",
    "\n",
    "        predicted_label = logits.argmax(dim=1)\n",
    "\n",
    "        self.total_count += predicted_label.size(0)\n",
    "        self.correct_count += torch.sum(predicted_label == batch.label).item()\n",
    "\n",
    "        if self.is_train:\n",
    "          loss.backward()\n",
    "          self.optimizer.step()\n",
    "          self.optimizer.zero_grad()\n",
    "        self.epoch_loss += loss.item()"
   ],
   "execution_count": 14,
   "outputs": []
  },
  {
   "metadata": {
    "id": "IqCvQEByddtj",
    "executionInfo": {
     "status": "ok",
     "timestamp": 1668874826745,
     "user_tz": -180,
     "elapsed": 304,
     "user": {
      "displayName": "Никита Рогаленко",
      "userId": "07335219348058713837"
     }
    }
   },
   "cell_type": "code",
   "source": [
    "def do_epoch(trainer, data_iter, is_train, name=None):\n",
    "    trainer.on_epoch_begin(is_train, name, batches_count=len(data_iter))\n",
    "    \n",
    "    with torch.autograd.set_grad_enabled(is_train):\n",
    "        with tqdm(total=trainer.batches_count) as progress_bar:\n",
    "            for i, batch in enumerate(data_iter):\n",
    "                batch_progress = trainer.on_batch(batch)\n",
    "\n",
    "                progress_bar.update()\n",
    "                progress_bar.set_description(batch_progress)\n",
    "                \n",
    "            epoch_progress = trainer.on_epoch_end()\n",
    "            progress_bar.set_description(epoch_progress)\n",
    "            progress_bar.refresh()\n",
    "\n",
    "            \n",
    "def fit(trainer, train_iter, epochs_count=1, val_iter=None):\n",
    "    best_val_loss = None\n",
    "    for epoch in range(epochs_count):\n",
    "        name_prefix = '[{} / {}] '.format(epoch + 1, epochs_count)\n",
    "        do_epoch(trainer, train_iter, is_train=True, name=name_prefix + 'Train:')\n",
    "        \n",
    "        if not val_iter is None:\n",
    "            do_epoch(trainer, val_iter, is_train=False, name=name_prefix + '  Val:')"
   ],
   "execution_count": 15,
   "outputs": []
  },
  {
   "metadata": {
    "id": "JQBsP8SHhjqm",
    "colab": {
     "base_uri": "https://localhost:8080/"
    },
    "executionInfo": {
     "status": "ok",
     "timestamp": 1668864692618,
     "user_tz": -180,
     "elapsed": 1366173,
     "user": {
      "displayName": "Никита Рогаленко",
      "userId": "07335219348058713837"
     }
    },
    "outputId": "86e40218-3809-45c5-c64e-1a9ce0669bc7"
   },
   "cell_type": "code",
   "source": [
    "model = DepressionClassifierModel(vocab_size=len(tokens_field.vocab)).to(DEVICE)\n",
    "\n",
    "criterion = nn.CrossEntropyLoss().to(DEVICE)\n",
    "optimizer = optim.Adam(model.parameters())\n",
    "\n",
    "trainer = ModelTrainer(model, criterion, optimizer)\n",
    "\n",
    "fit(trainer, train_iter, epochs_count=20, val_iter=val_iter)"
   ],
   "execution_count": 14,
   "outputs": [
    {
     "output_type": "stream",
     "name": "stderr",
     "text": [
      "[1 / 30] Train: Loss = 0.11851, Accuracy = 95.68%: 100%|██████████| 1408/1408 [00:41<00:00, 33.63it/s]\n",
      "[1 / 30]   Val: Loss = 0.06032, Accuracy = 97.70%: 100%|██████████| 40/40 [00:02<00:00, 14.18it/s]\n",
      "[2 / 30] Train: Loss = 0.05379, Accuracy = 98.32%: 100%|██████████| 1408/1408 [00:41<00:00, 33.71it/s]\n",
      "[2 / 30]   Val: Loss = 0.04996, Accuracy = 98.84%: 100%|██████████| 40/40 [00:02<00:00, 14.07it/s]\n",
      "[3 / 30] Train: Loss = 0.02108, Accuracy = 99.31%: 100%|██████████| 1408/1408 [00:41<00:00, 33.65it/s]\n",
      "[3 / 30]   Val: Loss = 0.03579, Accuracy = 98.96%: 100%|██████████| 40/40 [00:02<00:00, 14.88it/s]\n",
      "[4 / 30] Train: Loss = 0.01147, Accuracy = 99.65%: 100%|██████████| 1408/1408 [00:41<00:00, 33.76it/s]\n",
      "[4 / 30]   Val: Loss = 0.03548, Accuracy = 98.98%: 100%|██████████| 40/40 [00:02<00:00, 15.15it/s]\n",
      "[5 / 30] Train: Loss = 0.00665, Accuracy = 99.84%: 100%|██████████| 1408/1408 [00:41<00:00, 33.72it/s]\n",
      "[5 / 30]   Val: Loss = 0.03684, Accuracy = 99.06%: 100%|██████████| 40/40 [00:02<00:00, 15.46it/s]\n",
      "[6 / 30] Train: Loss = 0.00508, Accuracy = 99.84%: 100%|██████████| 1408/1408 [00:42<00:00, 33.42it/s]\n",
      "[6 / 30]   Val: Loss = 0.04701, Accuracy = 98.88%: 100%|██████████| 40/40 [00:02<00:00, 15.44it/s]\n",
      "[7 / 30] Train: Loss = 0.00391, Accuracy = 99.90%: 100%|██████████| 1408/1408 [00:42<00:00, 33.41it/s]\n",
      "[7 / 30]   Val: Loss = 0.04224, Accuracy = 99.12%: 100%|██████████| 40/40 [00:02<00:00, 15.08it/s]\n",
      "[8 / 30] Train: Loss = 0.00053, Accuracy = 99.99%: 100%|██████████| 1408/1408 [00:43<00:00, 32.29it/s]\n",
      "[8 / 30]   Val: Loss = 0.05058, Accuracy = 99.12%: 100%|██████████| 40/40 [00:03<00:00, 13.33it/s]\n",
      "[9 / 30] Train: Loss = 0.00226, Accuracy = 99.94%: 100%|██████████| 1408/1408 [00:45<00:00, 31.26it/s]\n",
      "[9 / 30]   Val: Loss = 0.04774, Accuracy = 98.98%: 100%|██████████| 40/40 [00:02<00:00, 13.48it/s]\n",
      "[10 / 30] Train: Loss = 0.00184, Accuracy = 99.96%: 100%|██████████| 1408/1408 [00:44<00:00, 31.53it/s]\n",
      "[10 / 30]   Val: Loss = 0.04493, Accuracy = 99.18%: 100%|██████████| 40/40 [00:02<00:00, 14.67it/s]\n",
      "[11 / 30] Train: Loss = 0.00040, Accuracy = 99.99%: 100%|██████████| 1408/1408 [00:43<00:00, 32.09it/s]\n",
      "[11 / 30]   Val: Loss = 0.06313, Accuracy = 99.18%: 100%|██████████| 40/40 [00:02<00:00, 13.36it/s]\n",
      "[12 / 30] Train: Loss = 0.00008, Accuracy = 100.00%: 100%|██████████| 1408/1408 [00:44<00:00, 31.33it/s]\n",
      "[12 / 30]   Val: Loss = 0.05786, Accuracy = 99.28%: 100%|██████████| 40/40 [00:02<00:00, 14.43it/s]\n",
      "[13 / 30] Train: Loss = 0.00001, Accuracy = 100.00%: 100%|██████████| 1408/1408 [00:44<00:00, 31.45it/s]\n",
      "[13 / 30]   Val: Loss = 0.06294, Accuracy = 99.24%: 100%|██████████| 40/40 [00:02<00:00, 14.47it/s]\n",
      "[14 / 30] Train: Loss = 0.00001, Accuracy = 100.00%: 100%|██████████| 1408/1408 [00:42<00:00, 33.28it/s]\n",
      "[14 / 30]   Val: Loss = 0.07073, Accuracy = 99.26%: 100%|██████████| 40/40 [00:02<00:00, 14.90it/s]\n",
      "[15 / 30] Train: Loss = 0.00132, Accuracy = 99.97%: 100%|██████████| 1408/1408 [00:42<00:00, 32.95it/s]\n",
      "[15 / 30]   Val: Loss = 0.04319, Accuracy = 99.20%: 100%|██████████| 40/40 [00:02<00:00, 15.23it/s]\n",
      "[16 / 30] Train: Loss = 0.00030, Accuracy = 99.99%: 100%|██████████| 1408/1408 [00:42<00:00, 33.00it/s]\n",
      "[16 / 30]   Val: Loss = 0.05268, Accuracy = 99.08%: 100%|██████████| 40/40 [00:02<00:00, 15.17it/s]\n",
      "[17 / 30] Train: Loss = 0.00100, Accuracy = 99.97%: 100%|██████████| 1408/1408 [00:42<00:00, 33.22it/s]\n",
      "[17 / 30]   Val: Loss = 0.05006, Accuracy = 99.20%: 100%|██████████| 40/40 [00:02<00:00, 15.58it/s]\n",
      "[18 / 30] Train: Loss = 0.00012, Accuracy = 100.00%: 100%|██████████| 1408/1408 [00:42<00:00, 32.95it/s]\n",
      "[18 / 30]   Val: Loss = 0.05486, Accuracy = 99.22%: 100%|██████████| 40/40 [00:02<00:00, 14.92it/s]\n",
      "[19 / 30] Train: Loss = 0.00003, Accuracy = 100.00%: 100%|██████████| 1408/1408 [00:43<00:00, 32.63it/s]\n",
      "[19 / 30]   Val: Loss = 0.05978, Accuracy = 99.24%: 100%|██████████| 40/40 [00:02<00:00, 15.34it/s]\n",
      "[20 / 30] Train: Loss = 0.00000, Accuracy = 100.00%: 100%|██████████| 1408/1408 [00:42<00:00, 33.18it/s]\n",
      "[20 / 30]   Val: Loss = 0.06347, Accuracy = 99.24%: 100%|██████████| 40/40 [00:02<00:00, 15.29it/s]\n",
      "[21 / 30] Train: Loss = 0.00000, Accuracy = 100.00%: 100%|██████████| 1408/1408 [00:41<00:00, 33.52it/s]\n",
      "[21 / 30]   Val: Loss = 0.06804, Accuracy = 99.24%: 100%|██████████| 40/40 [00:02<00:00, 15.18it/s]\n",
      "[22 / 30] Train: Loss = 0.00000, Accuracy = 100.00%: 100%|██████████| 1408/1408 [00:41<00:00, 33.65it/s]\n",
      "[22 / 30]   Val: Loss = 0.07294, Accuracy = 99.24%: 100%|██████████| 40/40 [00:02<00:00, 15.86it/s]\n",
      "[23 / 30] Train: Loss = 0.00000, Accuracy = 100.00%: 100%|██████████| 1408/1408 [00:42<00:00, 33.51it/s]\n",
      "[23 / 30]   Val: Loss = 0.06565, Accuracy = 99.28%: 100%|██████████| 40/40 [00:02<00:00, 15.20it/s]\n",
      "[24 / 30] Train: Loss = 0.00000, Accuracy = 100.00%: 100%|██████████| 1408/1408 [00:41<00:00, 33.59it/s]\n",
      "[24 / 30]   Val: Loss = 0.07361, Accuracy = 99.26%: 100%|██████████| 40/40 [00:02<00:00, 15.82it/s]\n",
      "[25 / 30] Train: Loss = 0.00000, Accuracy = 100.00%: 100%|██████████| 1408/1408 [00:41<00:00, 33.80it/s]\n",
      "[25 / 30]   Val: Loss = 0.07841, Accuracy = 99.20%: 100%|██████████| 40/40 [00:02<00:00, 14.67it/s]\n",
      "[26 / 30] Train: Loss = 0.00000, Accuracy = 100.00%: 100%|██████████| 1408/1408 [00:41<00:00, 33.92it/s]\n",
      "[26 / 30]   Val: Loss = 0.08389, Accuracy = 99.22%: 100%|██████████| 40/40 [00:02<00:00, 13.65it/s]\n",
      "[27 / 30] Train: Loss = 0.00000, Accuracy = 100.00%: 100%|██████████| 1408/1408 [00:42<00:00, 33.44it/s]\n",
      "[27 / 30]   Val: Loss = 0.08502, Accuracy = 99.18%: 100%|██████████| 40/40 [00:02<00:00, 16.65it/s]\n",
      "[28 / 30] Train: Loss = 0.00000, Accuracy = 100.00%: 100%|██████████| 1408/1408 [00:41<00:00, 33.63it/s]\n",
      "[28 / 30]   Val: Loss = 0.12830, Accuracy = 99.28%: 100%|██████████| 40/40 [00:02<00:00, 15.59it/s]\n",
      "[29 / 30] Train: Loss = 0.00000, Accuracy = 100.00%: 100%|██████████| 1408/1408 [00:42<00:00, 33.49it/s]\n",
      "[29 / 30]   Val: Loss = 0.10139, Accuracy = 99.24%: 100%|██████████| 40/40 [00:02<00:00, 15.34it/s]\n",
      "[30 / 30] Train: Loss = 0.00000, Accuracy = 100.00%: 100%|██████████| 1408/1408 [00:41<00:00, 33.64it/s]\n",
      "[30 / 30]   Val: Loss = 0.10288, Accuracy = 99.24%: 100%|██████████| 40/40 [00:02<00:00, 15.53it/s]\n"
     ]
    }
   ]
  },
  {
   "metadata": {
    "id": "O9YhthG30xp2"
   },
   "cell_type": "markdown",
   "source": [
    "**Задание** Подсчитайте итоговое качество на тесте."
   ]
  },
  {
   "metadata": {
    "id": "JxHshnyZjMuX",
    "colab": {
     "base_uri": "https://localhost:8080/"
    },
    "executionInfo": {
     "status": "ok",
     "timestamp": 1668864721069,
     "user_tz": -180,
     "elapsed": 6485,
     "user": {
      "displayName": "Никита Рогаленко",
      "userId": "07335219348058713837"
     }
    },
    "outputId": "10e7e4a3-6048-4024-bcd2-5d0d8ee41527"
   },
   "cell_type": "code",
   "source": [
    "do_epoch(trainer, test_iter, is_train=False, name=\"Test:\")"
   ],
   "execution_count": 15,
   "outputs": [
    {
     "output_type": "stream",
     "name": "stderr",
     "text": [
      "Test: Loss = 0.10024, Accuracy = 99.13%: 100%|██████████| 98/98 [00:06<00:00, 15.83it/s]\n"
     ]
    }
   ]
  },
  {
   "cell_type": "code",
   "source": [
    "torch.save(model, '/content/drive/MyDrive/Colab Notebooks/doom-model-demo')"
   ],
   "metadata": {
    "id": "-9Au8W9kHE2B",
    "executionInfo": {
     "status": "ok",
     "timestamp": 1668866098229,
     "user_tz": -180,
     "elapsed": 502,
     "user": {
      "displayName": "Никита Рогаленко",
      "userId": "07335219348058713837"
     }
    }
   },
   "execution_count": 19,
   "outputs": []
  },
  {
   "cell_type": "code",
   "source": [
    "loaded_model = torch.load('/content/drive/MyDrive/Colab Notebooks/doom-model-demo')"
   ],
   "metadata": {
    "id": "eOfA4VCaLAxK",
    "executionInfo": {
     "status": "ok",
     "timestamp": 1668874851636,
     "user_tz": -180,
     "elapsed": 319,
     "user": {
      "displayName": "Никита Рогаленко",
      "userId": "07335219348058713837"
     }
    }
   },
   "execution_count": 17,
   "outputs": []
  },
  {
   "cell_type": "code",
   "source": [
    "from google.colab import drive\n",
    "drive.mount('/content/drive')"
   ],
   "metadata": {
    "colab": {
     "base_uri": "https://localhost:8080/"
    },
    "id": "yBCi0mzXJw7r",
    "executionInfo": {
     "status": "ok",
     "timestamp": 1668874634649,
     "user_tz": -180,
     "elapsed": 21206,
     "user": {
      "displayName": "Никита Рогаленко",
      "userId": "07335219348058713837"
     }
    },
    "outputId": "76016d68-d47a-4283-a5e8-57f65d5a3a4d"
   },
   "execution_count": 10,
   "outputs": [
    {
     "output_type": "stream",
     "name": "stdout",
     "text": [
      "Mounted at /content/drive\n"
     ]
    }
   ]
  },
  {
   "cell_type": "markdown",
   "source": [
    "## **Тестирование на произвольных запросах**\n",
    "\n",
    "---\n",
    "\n"
   ],
   "metadata": {
    "id": "hzp228-Pgfnj"
   }
  },
  {
   "cell_type": "code",
   "source": [
    "from autocorrect import Speller\n",
    "import nltk\n",
    "from nltk.corpus import stopwords\n",
    "from pymystem3 import Mystem\n",
    "\n",
    "nltk.download(\"stopwords\")\n",
    "mystem = Mystem()\n",
    "russian_stopwords = stopwords.words(\"russian\")\n",
    "\n",
    "speller = Speller('ru')\n",
    "\n",
    "def preprocess_text(text):\n",
    "  # remove links\n",
    "  text = ' '.join(re.sub(\"http\\S+\", \" \", text).split())\n",
    "  # remove hashtags, @mentions, emojis\n",
    "  text = ' '.join(re.sub(\"(@[А-Яа-яA-Za-z0-9]+)|(#[А-Яа-яA-Za-z0-9]+)|(<Emoji:.*>)\", \" \", text).split())\n",
    "  # remove punctuation and fix word-dot-word without space\n",
    "  text = ' '.join(re.sub(\"([^0-9A-Za-zА-Яа-я \\t])\", \" \", text).split())\n",
    "  # try to fix typos\n",
    "\n",
    "  text = speller(text)\n",
    "  tokens = mystem.lemmatize(text.lower())\n",
    "  tokens = [token for token in tokens if token not in russian_stopwords and token != \" \"]\n",
    "  text = \" \".join(tokens)\n",
    "  return text"
   ],
   "metadata": {
    "colab": {
     "base_uri": "https://localhost:8080/"
    },
    "id": "9sviCQBcEt3f",
    "executionInfo": {
     "status": "ok",
     "timestamp": 1668874876742,
     "user_tz": -180,
     "elapsed": 14260,
     "user": {
      "displayName": "Никита Рогаленко",
      "userId": "07335219348058713837"
     }
    },
    "outputId": "83840731-6574-4545-eeb0-1b6c022adf4c"
   },
   "execution_count": 18,
   "outputs": [
    {
     "output_type": "stream",
     "name": "stderr",
     "text": [
      "[nltk_data] Downloading package stopwords to /root/nltk_data...\n",
      "[nltk_data]   Unzipping corpora/stopwords.zip.\n",
      "Installing mystem to /root/.local/bin/mystem from http://download.cdn.yandex.net/mystem/mystem-3.1-linux-64bit.tar.gz\n"
     ]
    },
    {
     "output_type": "stream",
     "name": "stdout",
     "text": [
      "dictionary for this language not found, downloading...\n",
      "__________________________________________________\n",
      ">>>>>>>>>>>>>>>>>>>>>>>>>>>>>>>>>>>>>>>>>>>>>>>>>>\n",
      "done!\n"
     ]
    }
   ]
  },
  {
   "cell_type": "code",
   "source": [
    "def infer(text, model = model):\n",
    "  print('---------')\n",
    "  print('Sentence: ' + text)\n",
    "  print('---------\\n')\n",
    "  tokens = torch.IntTensor([[tokens_field.vocab.stoi[i] for i in text.split()]]).to(DEVICE)\n",
    "  predicted_label = model(tokens).argmax(dim=1)\n",
    "  print(predicted_label)\n",
    "\n",
    "\n",
    "infer('как же хочется сдохнуть я просто не могу так жить аааа')\n",
    "infer('Играй в war thunder по ссылке в описании, вертолеты, танки, самолеты, тут все есть че тебе надо')\n",
    "infer('Я обожаю свою жизнь, как же хорошо жить на этом свете')\n",
    "infer('суицид - штука хорошая')\n",
    "infer('абсллютно случайный текст, реагирую на новость, которую увидел в каком-то паблике, должна быть такая же маршрутка с охапками роз, согласны, узнали?')\n",
    "infer('как же тяжело и больно')\n",
    "infer('здравствуйте мне 12 лет')\n",
    "infer('здравствуйте')\n",
    "infer('мне 12 лет')\n"
   ],
   "metadata": {
    "colab": {
     "base_uri": "https://localhost:8080/"
    },
    "id": "Tg3aEugxgok1",
    "executionInfo": {
     "status": "ok",
     "timestamp": 1668876357500,
     "user_tz": -180,
     "elapsed": 354,
     "user": {
      "displayName": "Никита Рогаленко",
      "userId": "07335219348058713837"
     }
    },
    "outputId": "0b699a8d-cef1-4fe2-d801-8728a205404e"
   },
   "execution_count": 29,
   "outputs": [
    {
     "output_type": "stream",
     "name": "stdout",
     "text": [
      "---------\n",
      "Sentence: как же хочется сдохнуть я просто не могу так жить аааа\n",
      "---------\n",
      "\n",
      "tensor([1])\n",
      "---------\n",
      "Sentence: Играй в war thunder по ссылке в описании, вертолеты, танки, самолеты, тут все есть че тебе надо\n",
      "---------\n",
      "\n",
      "tensor([0])\n",
      "---------\n",
      "Sentence: Я обожаю свою жизнь, как же хорошо жить на этом свете\n",
      "---------\n",
      "\n",
      "tensor([0])\n",
      "---------\n",
      "Sentence: суицид - штука хорошая\n",
      "---------\n",
      "\n",
      "tensor([1])\n",
      "---------\n",
      "Sentence: абсллютно случайный текст, реагирую на новость, которую увидел в каком-то паблике, должна быть такая же маршрутка с охапками роз, согласны, узнали?\n",
      "---------\n",
      "\n",
      "tensor([0])\n",
      "---------\n",
      "Sentence: как же тяжело и больно\n",
      "---------\n",
      "\n",
      "tensor([1])\n",
      "---------\n",
      "Sentence: здравствуйте мне 12 лет\n",
      "---------\n",
      "\n",
      "tensor([0])\n",
      "---------\n",
      "Sentence: здравствуйте\n",
      "---------\n",
      "\n",
      "tensor([0])\n",
      "---------\n",
      "Sentence: мне 12 лет\n",
      "---------\n",
      "\n",
      "tensor([1])\n"
     ]
    }
   ]
  }
 ]
}
